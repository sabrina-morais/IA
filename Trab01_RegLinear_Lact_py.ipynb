{
  "nbformat": 4,
  "nbformat_minor": 0,
  "metadata": {
    "colab": {
      "provenance": [],
      "private_outputs": true,
      "authorship_tag": "ABX9TyMBoQt0UWg5gCm4ny4V3h6e",
      "include_colab_link": true
    },
    "kernelspec": {
      "name": "python3",
      "display_name": "Python 3"
    },
    "language_info": {
      "name": "python"
    }
  },
  "cells": [
    {
      "cell_type": "markdown",
      "metadata": {
        "id": "view-in-github",
        "colab_type": "text"
      },
      "source": [
        "<a href=\"https://colab.research.google.com/github/sabrina-morais/IA/blob/main/Trab01_RegLinear_Lact_py.ipynb\" target=\"_parent\"><img src=\"https://colab.research.google.com/assets/colab-badge.svg\" alt=\"Open In Colab\"/></a>"
      ]
    },
    {
      "cell_type": "code",
      "source": [
        "!pip install -U dtale"
      ],
      "metadata": {
        "collapsed": true,
        "id": "b643fPEXJ_bI"
      },
      "execution_count": null,
      "outputs": []
    },
    {
      "cell_type": "code",
      "execution_count": null,
      "metadata": {
        "id": "5jBYi7i_65kV",
        "collapsed": true
      },
      "outputs": [],
      "source": [
        "import pandas as pd\n",
        "\n",
        "import numpy as np\n",
        "import matplotlib.pyplot as plt\n",
        "\n",
        "from google.colab import drive\n",
        "\n",
        "drive.mount('/content/drive')\n",
        "folder = '/content/drive/My Drive/Colab Notebooks/Trab01_RegLinear_Lact/'\n",
        "df = pd.read_csv(folder + 'dataset.csv')\n",
        "df.head()\n",
        "#df.describe()\n"
      ]
    },
    {
      "cell_type": "code",
      "source": [
        "import dtale\n",
        "import dtale.app as dtale_app\n",
        "dtale_app.USE_COLAB  = True\n",
        "#dtale_app.USE_NGROK = True\n",
        "\n",
        "import seaborn as sns #visualizador de dados estatísticos"
      ],
      "metadata": {
        "id": "GPRvzw7pT71m"
      },
      "execution_count": null,
      "outputs": []
    },
    {
      "cell_type": "code",
      "source": [
        "dtale.show(df)"
      ],
      "metadata": {
        "id": "xdbjJBNSm_6L"
      },
      "execution_count": null,
      "outputs": []
    },
    {
      "cell_type": "markdown",
      "source": [
        "1. Análise inicial dos dados\n",
        "\n",
        " a. Construir uma tabela com as seguintes informações:\n",
        "\n",
        "- Animal | Prod. Mínima - 1º Lact. | Prod. média - 1º Lact. | Prod. máxima - 1º Lact. | Prod. Mínima - 2º Lact. | Prod. média - 2º Lact. | Prod. máxima - 2º Lact. | Prod. Mínima - 3º+ Lact. | Prod. média - 3º+ Lact. | Prod. máxima - 3º+ Lact."
      ],
      "metadata": {
        "id": "dyJaXfhHEof_"
      }
    },
    {
      "cell_type": "code",
      "source": [
        "result = df.groupby(['NUMERO', 'lactation'])['PRODUCAO_PESO'].agg(['min', 'max', 'mean'])\n",
        "print(result)\n",
        "result.to_csv(folder + 'result.csv')"
      ],
      "metadata": {
        "id": "DKgZ7aZyLmOI"
      },
      "execution_count": null,
      "outputs": []
    },
    {
      "cell_type": "code",
      "source": [
        "df_1502=df.query('NUMERO ==1502 & lactation ==1')\n",
        "df_1502.describe()"
      ],
      "metadata": {
        "id": "C_Ftrv8YTq7k"
      },
      "execution_count": null,
      "outputs": []
    },
    {
      "cell_type": "markdown",
      "source": [
        "b. Realizar um ajuste linear (y = ax + b) via código (sem uso de bibliotecas) para as curvas de cada animal (por lactação), informando:\n",
        "\n",
        "- Animal | lactação | a | b | erro quadrático médio"
      ],
      "metadata": {
        "id": "9wyRDPgcTpLO"
      }
    },
    {
      "cell_type": "markdown",
      "source": [
        "\n",
        "Exemplo sala\n",
        "\n",
        "y = ax + b\n",
        "a: coeficiente angular\n",
        "b: termo independente\n",
        "\n",
        "dados = [[1,2], [2,5], [2,7], [3,6], [4,3], [4,8], [5,9]]\n",
        "\n",
        "a = 0.5\n",
        "b= 1\n",
        "\n",
        "y = ax + b\n",
        "y = ax + b --> 0.5*1+1\n",
        "erro1 = 2-1.5 = 0.5 (a: int, b:int) ->int\n",
        "\n",
        "melhor_a = 0\n",
        "melhor_b = 0\n",
        "menor_erro = 999999999\n",
        "\n",
        "for i in range(10):\n",
        "    a = random.randint(-5,5)\n",
        "    b = random.randint(-50,50)\n",
        "\n",
        "\n",
        "    total_erro = 0\n",
        "    for d in dados:\n",
        "        h = a*d[0]+b\n",
        "        #erro = d[1]-h\n",
        "        #erro = np.power (d[1]-h,2)\n",
        "        erro = np.absolute (d[1]-h)\n",
        "        total_erro = total_erro + erro\n",
        "    if(total_erro < menor_erro):\n",
        "        menor_erro = total_erro\n",
        "        melhor_a = a\n",
        "        melhor_b = b\n",
        "    print(total_erro/len(dados))\n",
        "\n",
        "\n",
        "\n"
      ],
      "metadata": {
        "id": "5vNXBQe9f1TU"
      }
    },
    {
      "cell_type": "code",
      "source": [
        "def calcular_ajuste_linear(x, y):\n",
        "\n",
        "    # Calcula os parâmetros da reta (a e b) e o erro quadrático médio (EQM) para ajuste linear.\n",
        "    n = len(x)\n",
        "\n",
        "    # Calcular os coeficientes da reta\n",
        "    x_mean = sum(x) / n\n",
        "    y_mean = sum(y) / n\n",
        "\n",
        "    numerator_a = sum((x[i] - x_mean) * (y[i] - y_mean) for i in range(n))\n",
        "    denominator_a = sum((x[i] - x_mean) ** 2 for i in range(n))\n",
        "\n",
        "    # Lidar com denominador zero\n",
        "    if denominator_a == 0:\n",
        "        return None, None, float('inf')  # Indica\n",
        "\n",
        "    a = numerator_a / denominator_a\n",
        "    b = y_mean - a * x_mean\n",
        "\n",
        "    # Calcular o erro quadrático médio\n",
        "    y_pred = [a * xi + b for xi in x]\n",
        "    eqm = sum((y[i] - y_pred[i]) ** 2 for i in range(n)) / n\n",
        "\n",
        "    return a, b, eqm\n",
        "\n",
        "def ajustar_curvas(df):\n",
        "    resultados = []\n",
        "\n",
        "    for (animal, lactacao), grupo in df.groupby(['NUMERO', 'lactation']):\n",
        "        x = grupo['dim'].tolist()\n",
        "        y = grupo['PRODUCAO_PESO'].tolist()\n",
        "\n",
        "        a, b, eqm = calcular_ajuste_linear(x, y)\n",
        "\n",
        "        resultados.append({\n",
        "            'Animal': animal,\n",
        "            'Lactação': lactacao,\n",
        "            'a': a,\n",
        "            'b': b,\n",
        "            'Erro Quadrático Médio': eqm\n",
        "        })\n",
        "\n",
        "    return pd.DataFrame(resultados)\n",
        "\n",
        "# Aplicar a função e obter os resultados\n",
        "resultados_df = ajustar_curvas(df)\n",
        "\n",
        "print(resultados_df)\n"
      ],
      "metadata": {
        "id": "PtWP2__1d_Ry"
      },
      "execution_count": null,
      "outputs": []
    },
    {
      "cell_type": "code",
      "source": [
        "# imprimir os resultados\n",
        "plt.figure(figsize=(10, 6))\n",
        "\n",
        "for index, row in resultados_df.iterrows():\n",
        "    animal = row['Animal']\n",
        "    lactacao = row['Lactação']\n",
        "    a = row['a']\n",
        "    b = row['b']\n",
        "\n",
        "    grupo = df.query(f'NUMERO == {animal} & lactation == {lactacao}')\n",
        "    x = grupo['dim']\n",
        "    y = grupo['PRODUCAO_PESO']\n",
        "\n",
        "    plt.scatter(x, y, label=f'Animal {animal}, Lactação {lactacao}')\n",
        "    plt.plot(x, a * x + b, linestyle='--')  # traça a linha de regressão\n",
        "\n",
        "plt.xlabel('Days in milk')\n",
        "plt.ylabel('Milk production (kg)')\n",
        "plt.title('Ajuste Linear por Animal e Lactação')\n",
        "#plt.legend()\n",
        "plt.grid(True)\n",
        "plt.show()"
      ],
      "metadata": {
        "id": "794jFbeQGsyB"
      },
      "execution_count": null,
      "outputs": []
    },
    {
      "cell_type": "markdown",
      "source": [
        "c. Verificar o desempenho da curva de cada animal quando aplicada para estimar a produção de outros animais\n",
        "\n",
        "- Animal Utilizado | Animal (lactação) | Animal Alvo | Lactação Alvo | Erro quadrático médio"
      ],
      "metadata": {
        "id": "85ljeaJ-IJfe"
      }
    },
    {
      "cell_type": "code",
      "source": [
        "def calcular_erro_entre_animais(df, resultados_df):\n",
        "   #Calcula o erro quadrático médio ao usar a curva de um animal para estimar a produção de outro.\n",
        "\n",
        "    resultados_erro = []\n",
        "\n",
        "    for _, row_ajuste in resultados_df.iterrows():\n",
        "        animal_utilizado = row_ajuste['Animal']\n",
        "        lactacao_utilizada = row_ajuste['Lactação']\n",
        "        a = row_ajuste['a']\n",
        "        b = row_ajuste['b']\n",
        "\n",
        "        for animal_alvo in df['NUMERO'].unique():\n",
        "            for lactacao_alvo in df.query(f'NUMERO == {animal_alvo}')['lactation'].unique():\n",
        "                # Skip if it's the same animal and lactation used for fitting\n",
        "                if animal_alvo == animal_utilizado and lactacao_alvo == lactacao_utilizada:\n",
        "                    continue\n",
        "\n",
        "                grupo_alvo = df.query(f'NUMERO == {animal_alvo} & lactation == {lactacao_alvo}')\n",
        "                x_alvo = grupo_alvo['dim'].tolist()\n",
        "                y_alvo = grupo_alvo['PRODUCAO_PESO'].tolist()\n",
        "\n",
        "                # Predict using the curve of the \"used\" animal\n",
        "                y_pred = [a * xi + b for xi in x_alvo]\n",
        "\n",
        "                # Calculate mean squared error\n",
        "                eqm = sum((y_alvo[i] - y_pred[i]) ** 2 for i in range(len(y_alvo))) / len(y_alvo)\n",
        "\n",
        "                resultados_erro.append({\n",
        "                    'Animal Utilizado': animal_utilizado,\n",
        "                    'Lactação Utilizada': lactacao_utilizada,\n",
        "                    'Animal Alvo': animal_alvo,\n",
        "                    'Lactação Alvo': lactacao_alvo,\n",
        "                    'Erro Quadrático Médio': eqm\n",
        "                })\n",
        "\n",
        "    return pd.DataFrame(resultados_erro)\n",
        "\n",
        "# Aplicar as funções e obter os resultados\n",
        "resultados_df = ajustar_curvas(df)\n",
        "resultados_erro_df = calcular_erro_entre_animais(df, resultados_df)\n",
        "\n",
        "print(resultados_erro_df)\n",
        "resultados_erro_df.to_csv(folder + 'resultados_erro_df.csv')"
      ],
      "metadata": {
        "id": "i1k29yQTIGON"
      },
      "execution_count": null,
      "outputs": []
    },
    {
      "cell_type": "markdown",
      "source": [
        "d. Quais animais tiveram menor erro médio:\n",
        "\n",
        "- Em seus ajustes de curva da primeira lactação quando aplicada para predizer a produção de outros animais\n",
        "\n",
        "- Em seus ajustes de curva da segunda lactação quando aplicada para predizer a produção de outros animais\n",
        "\n",
        "- Em seus ajustes de curva da terceira lactação quando aplicada para predizer a produção de outros animais"
      ],
      "metadata": {
        "id": "wFWHQQVGJlz4"
      }
    },
    {
      "cell_type": "code",
      "source": [
        "# Animais com menor erro médio para cada lactação\n",
        "for lactacao in [1, 2, 3]:\n",
        "    erro_medio_por_animal = resultados_erro_df[resultados_erro_df['Lactação Utilizada'] == lactacao].groupby('Animal Utilizado')['Erro Quadrático Médio'].mean()\n",
        "    melhor_animal = erro_medio_por_animal.idxmin()\n",
        "    menor_erro = erro_medio_por_animal.min()\n",
        "\n",
        "    print(f\"Para a lactação {lactacao}, o animal com menor erro médio foi o {melhor_animal} com um erro de {menor_erro:.2f}\")"
      ],
      "metadata": {
        "id": "mOtwZgLWJwKW"
      },
      "execution_count": null,
      "outputs": []
    },
    {
      "cell_type": "code",
      "source": [
        "df_1584_1=df.query('NUMERO ==1584 & lactation ==1')\n",
        "df_1512_2=df.query('NUMERO ==1512 & lactation ==2')\n",
        "df_1512_3=df.query('NUMERO ==1512 & lactation ==3')"
      ],
      "metadata": {
        "id": "fo_S-vSA2mVk"
      },
      "execution_count": null,
      "outputs": []
    },
    {
      "cell_type": "code",
      "source": [
        "plt.xlabel('Days in milk')\n",
        "plt.ylabel('Milk production (kg)')\n",
        "plt.title('Animal com menor erro médio')\n",
        "\n",
        "plt.scatter(df_1584_1['dim'], df_1584_1['PRODUCAO_PESO'], color = 'red', marker='*', s=50)\n",
        "plt.scatter(df_1512_2['dim'], df_1512_2['PRODUCAO_PESO'], color = 'blue', marker='+', s=50)\n",
        "plt.scatter(df_1512_3['dim'], df_1512_3['PRODUCAO_PESO'], color = 'green', marker='*', s=50)\n",
        "\n",
        "plt.grid(True)\n",
        "plt.show()"
      ],
      "metadata": {
        "id": "YKngzeskaiBc"
      },
      "execution_count": null,
      "outputs": []
    },
    {
      "cell_type": "markdown",
      "source": [
        "2. Como você analisa os dados do exercício em relação a capacidade de generalização deste modelo de ajuste linear aplicado?"
      ],
      "metadata": {
        "id": "94WGNLgakbIE"
      }
    },
    {
      "cell_type": "markdown",
      "source": [
        "O modelo de ajuste linear não é satisfatório para generalizar os dados de lactação por serem distribuidos uma curva convexa, onde os pontos distantes do ponto de intersecção com a linha de ajuste apresentam um erro médio quadrático alto."
      ],
      "metadata": {
        "id": "rQd_RO_r9h1s"
      }
    },
    {
      "cell_type": "code",
      "source": [
        "# Modelo filtro e impressão\n",
        "df1=df.query('lactation ==1')\n",
        "df1.describe()\n",
        "df2=df.query('lactation ==2')\n",
        "#df2.describe()\n",
        "df3=df.query('lactation ==3')\n",
        "#df3.describe()\n",
        "df4=df.query('lactation ==4')\n",
        "#df4.describe\n",
        "df5=df.query('lactation ==5')\n",
        "#df5.describe\n",
        "\n",
        "#df1['PRODUCAO_PESO'].hist()\n",
        "#df1['PRODUCAO_PESO'].boxplot()\n",
        "#df1['PRODUCAO_PESO'].plot.box()\n",
        "\n",
        "plt.xlabel('Days in milk')\n",
        "plt.ylabel('Milk production (kg)')\n",
        "plt.title('Produções por Lactação')\n",
        "\n",
        "plt.scatter(df1['dim'], df1['PRODUCAO_PESO'], color = 'red', marker='*', s=50)\n",
        "plt.scatter(df2['dim'], df2['PRODUCAO_PESO'], color = 'blue', marker='+', s=50)\n",
        "plt.scatter(df3['dim'], df3['PRODUCAO_PESO'], color = 'green', marker='*', s=50)\n",
        "plt.scatter(df4['dim'], df4['PRODUCAO_PESO'], color = 'orange', marker='+', s=50)\n",
        "plt.scatter(df5['dim'], df5['PRODUCAO_PESO'], color = 'black', marker='+', s=50)"
      ],
      "metadata": {
        "id": "tySQBW3xYtae"
      },
      "execution_count": null,
      "outputs": []
    },
    {
      "cell_type": "code",
      "source": [
        "# Modelo filtro e impressão\n",
        "\n",
        "df_1502_1=df.query('NUMERO ==1502 & lactation ==1')\n",
        "df_1502_2=df.query('NUMERO ==1502 & lactation ==2')\n",
        "df_1502_3=df.query('NUMERO ==1502 & lactation ==3')\n",
        "df_1502_4=df.query('NUMERO ==1502 & lactation ==4')\n",
        "df_1502_5=df.query('NUMERO ==1502 & lactation ==5')\n",
        "\n",
        "plt.xlabel('Days in milk')\n",
        "plt.ylabel('Milk production (kg)')\n",
        "plt.title('Desempenho do animal 1502')\n",
        "\n",
        "plt.scatter(df_1502_1['dim'], df_1502_1['PRODUCAO_PESO'], color = 'red', marker='*', s=50)\n",
        "plt.scatter(df_1502_2['dim'], df_1502_2['PRODUCAO_PESO'], color = 'blue', marker='+', s=50)\n",
        "plt.scatter(df_1502_3['dim'], df_1502_3['PRODUCAO_PESO'], color = 'green', marker='*', s=50)\n",
        "plt.scatter(df_1502_4['dim'], df_1502_4['PRODUCAO_PESO'], color = 'orange', marker='+', s=50)\n",
        "plt.scatter(df_1502_5['dim'], df_1502_5['PRODUCAO_PESO'], color = 'black', marker='+', s=50)"
      ],
      "metadata": {
        "id": "sCQ0EEWbWT_s"
      },
      "execution_count": null,
      "outputs": []
    }
  ]
}